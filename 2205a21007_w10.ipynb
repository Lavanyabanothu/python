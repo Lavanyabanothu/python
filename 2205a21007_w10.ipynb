{
  "nbformat": 4,
  "nbformat_minor": 0,
  "metadata": {
    "colab": {
      "provenance": [],
      "authorship_tag": "ABX9TyN8ehrVGFBdPD/KdTIVtK7X",
      "include_colab_link": true
    },
    "kernelspec": {
      "name": "python3",
      "display_name": "Python 3"
    },
    "language_info": {
      "name": "python"
    }
  },
  "cells": [
    {
      "cell_type": "markdown",
      "metadata": {
        "id": "view-in-github",
        "colab_type": "text"
      },
      "source": [
        "<a href=\"https://colab.research.google.com/github/Lavanyabanothu/python/blob/main/2205a21007_w10.ipynb\" target=\"_parent\"><img src=\"https://colab.research.google.com/assets/colab-badge.svg\" alt=\"Open In Colab\"/></a>"
      ]
    },
    {
      "cell_type": "code",
      "source": [
        "import numpy as np\n",
        "\n",
        "marks = np.array([\n",
        "    [[101, 35, 98, 43, 65, 78, 96], [101, 45, 89, 43, 56, 87, 69]],\n",
        "    [[102, 87, 45, 98, 65, 34, 78], [102, 78, 54, 89, 56, 87, 34]],\n",
        "    [[103, 45, 26, 78, 45, 67, 34], [103, 54, 62, 87, 78, 98, 43]],\n",
        "    [[104, 45, 56, 67, 78, 89, 90], [104, 35, 65, 76, 87, 98, 9]],\n",
        "    [[105, 23, 34, 45, 56, 76, 87], [105, 32, 45, 56, 67, 98, 9]]\n",
        "])\n",
        "stud=marks.shape[1]\n",
        "sem=marks.shape[0]\n",
        "\n",
        "\n",
        "\n",
        "hall_ticket_no = int(input(\"Enter hall ticket no.: \"))\n",
        "sem = int(input(\"Enter semester no.\"))\n",
        "for i in range(sem):\n",
        "  if(sem==i+1):\n",
        "    break\n",
        "index_sem=i\n",
        "for j in range(stud):\n",
        "  if(hall_ticket_no==marks[index_sem,j,0]):\n",
        "    break\n",
        "index_stud=j\n",
        "marks_percentage=np.sum(marks[index_sem,index_stud,1:marks.shape[2]])*100/600\n",
        "\n",
        "count=0\n",
        "failed_sub=[]\n",
        "for i in range(1, marks.shape[2]):\n",
        "   if (marks[index_sem,index_stud,i]<40):\n",
        "       count=count+1\n",
        "\n",
        "failed_sub.append(i)\n",
        "print(\"================\")\n",
        "print(\" SR University \")\n",
        "print(\" Score Card \")\n",
        "print(\"=================\")\n",
        "print(\"Roll No: \", hall_ticket_no)\n",
        "print(\"Semester:\", sem)\n",
        "print(\"Subject1:\", marks [index_sem, index_stud, 1])\n",
        "print(\"Subject2:\", marks [index_sem, index_stud,2])\n",
        "print(\"Subject3:\", marks [index_sem, index_stud, 3])\n",
        "print(\"Subject4:\", marks [index_sem, index_stud, 4])\n",
        "print(\"Subject5:\", marks [index_sem, index_stud, 5])\n",
        "print(\"Subject6:\", marks [index_sem, index_stud,6])\n",
        "print(\"=============== \")\n",
        "print(\" Results Status \")\n",
        "print(\"==============\")\n",
        "\n",
        "if(count>0):\n",
        "  print(\"Fail\")\n",
        "  print(\"Failed Subjects:\",)\n",
        "for i in range(len(failed_sub)):\n",
        "  if(failed_sub[i]==1):\n",
        "    print(\"Subject1\")\n",
        "if(failed_sub[i]==2):\n",
        "  print(\"Subject2\")\n",
        "if(failed_sub[i]==3):\n",
        "  print(\"Subject3\")\n",
        "if(failed_sub[i]==4):\n",
        "  print(\"Subject4\")\n",
        "if(failed_sub[i]==5):\n",
        "   print(\"Subject5\")\n",
        "if(failed_sub[i]==6):\n",
        "   print(\"Subject6\")\n",
        "else:\n",
        "  print(\"Pass\")\n",
        "  print(\"Percentage of marks:\", np.round(marks_percentage))\n",
        "  print(\"============\")"
      ],
      "metadata": {
        "colab": {
          "base_uri": "https://localhost:8080/"
        },
        "id": "OY2ilTSb0q6K",
        "outputId": "7a58a5a0-38c3-40e5-eab1-04980fd73136"
      },
      "execution_count": 17,
      "outputs": [
        {
          "output_type": "stream",
          "name": "stdout",
          "text": [
            "Enter hall ticket no.: 101\n",
            "Enter semester no.1\n",
            "================\n",
            " SR University \n",
            " Score Card \n",
            "=================\n",
            "Roll No:  101\n",
            "Semester: 1\n",
            "Subject1: 35\n",
            "Subject2: 98\n",
            "Subject3: 43\n",
            "Subject4: 65\n",
            "Subject5: 78\n",
            "Subject6: 96\n",
            "=============== \n",
            " Results Status \n",
            "==============\n",
            "Fail\n",
            "Failed Subjects:\n",
            "Subject6\n"
          ]
        }
      ]
    }
  ]
}