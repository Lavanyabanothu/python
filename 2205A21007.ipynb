{
  "nbformat": 4,
  "nbformat_minor": 0,
  "metadata": {
    "colab": {
      "provenance": [],
      "authorship_tag": "ABX9TyPd5t1MIf1HEtqFV3Nlk5NX",
      "include_colab_link": true
    },
    "kernelspec": {
      "name": "python3",
      "display_name": "Python 3"
    },
    "language_info": {
      "name": "python"
    }
  },
  "cells": [
    {
      "cell_type": "markdown",
      "metadata": {
        "id": "view-in-github",
        "colab_type": "text"
      },
      "source": [
        "<a href=\"https://colab.research.google.com/github/Lavanyabanothu/python/blob/main/2205A21007.ipynb\" target=\"_parent\"><img src=\"https://colab.research.google.com/assets/colab-badge.svg\" alt=\"Open In Colab\"/></a>"
      ]
    },
    {
      "cell_type": "code",
      "source": [
        " Rating=float(input(\"Enter the Rating of transformer in Voltamphere = \"))\n",
        "pf=float(input(\"Enter the power factor of transformer = \"))\n",
        "loading=float(input(\"Enter the loading of transformer = \"))\n",
        "copper_losses=float(input(\"Enter the Full load copper losses of transformer in Watts = \"))\n",
        "core_losses=float(input(\"Enter the core losses of Transformer in Watts = \"))\n",
        "Cu_losses=(copper_losses)*(loading**2)\n",
        "print(\"copper losses of transformer at loading =\",Cu_losses)\n",
        "efficiency=(((loading)*Rating*pf)/((loading*Rating*pf)+core_losses+Cu_losses))*100\n",
        "print(\"Efficiency of transformer =\",efficiency,\"%\")\n",
        "import math\n",
        "Max_efficiency=math.sqrt(core_losses/copper_losses)\n",
        "print(\"Load at where maximum efficiency = \",Max_efficiency)"
      ],
      "metadata": {
        "colab": {
          "base_uri": "https://localhost:8080/"
        },
        "id": "58wU7zK3TH0P",
        "outputId": "21f33e48-0025-4dfc-db3d-34f8487777a8"
      },
      "execution_count": 1,
      "outputs": [
        {
          "output_type": "stream",
          "name": "stdout",
          "text": [
            "Enter the Rating of transformer in Voltamphere = 10000000\n",
            "Enter the power factor of transformer = 0.95\n",
            "Enter the loading of transformer = 0.5\n",
            "Enter the Full load copper losses of transformer in Watts = 500000\n",
            "Enter the core losses of Transformer in Watts = 100000\n",
            "copper losses of transformer at loading = 125000.0\n",
            "Efficiency of transformer = 95.47738693467338 %\n",
            "Load at where maximum efficiency =  0.4472135954999579\n"
          ]
        }
      ]
    }
  ]
}