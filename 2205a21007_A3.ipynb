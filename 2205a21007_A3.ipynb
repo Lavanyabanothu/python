{
  "nbformat": 4,
  "nbformat_minor": 0,
  "metadata": {
    "colab": {
      "provenance": [],
      "authorship_tag": "ABX9TyM4x19+Wik+f+qJBkgR+mg9",
      "include_colab_link": true
    },
    "kernelspec": {
      "name": "python3",
      "display_name": "Python 3"
    },
    "language_info": {
      "name": "python"
    }
  },
  "cells": [
    {
      "cell_type": "markdown",
      "metadata": {
        "id": "view-in-github",
        "colab_type": "text"
      },
      "source": [
        "<a href=\"https://colab.research.google.com/github/Lavanyabanothu/python/blob/main/2205a21007_A3.ipynb\" target=\"_parent\"><img src=\"https://colab.research.google.com/assets/colab-badge.svg\" alt=\"Open In Colab\"/></a>"
      ]
    },
    {
      "cell_type": "code",
      "execution_count": null,
      "metadata": {
        "colab": {
          "base_uri": "https://localhost:8080/"
        },
        "id": "wajfgxFDIJpt",
        "outputId": "b778b850-1536-4a93-ce54-93ed1f309d8c"
      },
      "outputs": [
        {
          "output_type": "stream",
          "name": "stdout",
          "text": [
            "enter the v0:220\n",
            "enter the i0:2\n",
            "enter the w0:250\n",
            "enter the vsc:75\n",
            "enter the isc:10\n",
            "enter the wsc500\n",
            "enter the rating:5000\n",
            "enter the x:0.75\n",
            "enter the pf:1\n",
            "r0 value 193.6\n",
            "x0 value 26.734619750639606\n",
            "rhv value 5.0\n",
            "xhv value 5.5901699437494745\n",
            "efficiency value 87.5912408759124\n",
            "copperlosses value 281.25\n"
          ]
        }
      ],
      "source": [
        "import modules\n",
        "v0=int(input(\"enter the v0:\"))\n",
        "i0=int(input(\"enter the i0:\"))\n",
        "w0=int(input(\"enter the w0:\"))\n",
        "vsc=int(input(\"enter the vsc:\"))\n",
        "isc=int(input(\"enter the isc:\"))\n",
        "wsc=int(input(\"enter the wsc\"))\n",
        "rating=int(input(\"enter the rating:\"))\n",
        "x=float(input(\"enter the x:\"))\n",
        "pf=float(input(\"enter the pf:\"))\n",
        "[r0,x0]=modules.oc(v0,i0,w0)\n",
        "[rhv,xhv]=modules.sc(vsc,isc,wsc)\n",
        "[efficiency,copper]=modules.eff(rating,w0,wsc,x,pf)\n",
        "print(\"r0 value\",r0)\n",
        "print(\"x0 value\",x0)\n",
        "print(\"rhv value\",rhv)\n",
        "print(\"xhv value\",xhv)\n",
        "print(\"efficiency value\", efficiency)\n",
        "print(\"copperlosses value\",copper)"
      ]
    }
  ]
}