{
  "nbformat": 4,
  "nbformat_minor": 0,
  "metadata": {
    "colab": {
      "provenance": [],
      "authorship_tag": "ABX9TyOwj7355yT1+8ZzfoJlZ9Nv",
      "include_colab_link": true
    },
    "kernelspec": {
      "name": "python3",
      "display_name": "Python 3"
    },
    "language_info": {
      "name": "python"
    }
  },
  "cells": [
    {
      "cell_type": "markdown",
      "metadata": {
        "id": "view-in-github",
        "colab_type": "text"
      },
      "source": [
        "<a href=\"https://colab.research.google.com/github/Lavanyabanothu/python/blob/main/2205a21007_a9.ipynb\" target=\"_parent\"><img src=\"https://colab.research.google.com/assets/colab-badge.svg\" alt=\"Open In Colab\"/></a>"
      ]
    },
    {
      "cell_type": "code",
      "execution_count": 15,
      "metadata": {
        "colab": {
          "base_uri": "https://localhost:8080/"
        },
        "id": "CBxNhE-Eodnk",
        "outputId": "1429aea3-db5e-48f6-b20c-7efad25952d5"
      },
      "outputs": [
        {
          "name": "stdout",
          "output_type": "stream",
          "text": [
            "enter hall ticketno.101\n"
          ]
        }
      ],
      "source": [
        "import numpy as np\n",
        "marks=np.array([[101, 35, 98, 43, 65, 78, 96], [102, 87, 45, 98, 65, 34, 78], [103, 45, 26, 78, 45, 67, 34], [104, 45, 56, 67, 78, 89, 90], [105, 23, 34, 45, 56, 76, 87]])\n",
        "students=marks.shape[0]\n",
        "\n",
        "Hall_ticket_No=int(input(\"enter hall ticketno.\"))\n",
        "for i in range(students):\n",
        "  if(Hall_ticket_No==marks[i,0]):\n",
        "    break\n",
        "index=i\n",
        "\n",
        "marks_percentage=np.sum(marks[index,1:marks.shape[1]])*100/600\n",
        "\n",
        "count=0\n",
        "failed_sub=[]\n",
        "for i in range(1,marks.shape[1]):\n",
        "  if(marks[index,i]<35):\n",
        "   count=count+1\n",
        "   failed_sub.append(i)\n",
        "\n"
      ]
    },
    {
      "cell_type": "code",
      "source": [
        "print(\"===========================\")\n",
        "print(\"  KINDER LAND SCHOOL       \")\n",
        "print(\"    SCORE CARD             \")\n",
        "print(\"===========================\")\n",
        "print(\"Roll No:\", Hall_ticket_No)\n",
        "print(\"Telugu:\", marks [index,1])\n",
        "print(\"English:\", marks [index,2])\n",
        "print(\"Hindi:\", marks [index, 3])\n",
        "print(\"Maths:\", marks [index, 4])\n",
        "print(\"Science:\", marks [index, 5])\n",
        "print(\"social:\", marks [index, 6])\n",
        "print(\"=== ==\")\n",
        "print(\"========================\")\n",
        "print(\"     Results Status    \")\n",
        "\n",
        "print(\"======================\")\n"
      ],
      "metadata": {
        "colab": {
          "base_uri": "https://localhost:8080/"
        },
        "id": "aWFVbN3Q1M7_",
        "outputId": "62fb7f6e-7738-442e-f6c2-f0d81d202a8a"
      },
      "execution_count": 20,
      "outputs": [
        {
          "output_type": "stream",
          "name": "stdout",
          "text": [
            "===========================\n",
            "  KINDER LAND SCHOOL       \n",
            "    SCORE CARD             \n",
            "===========================\n",
            "Roll No: 101\n",
            "Telugu: 35\n",
            "English: 98\n",
            "Hindi: 43\n",
            "Maths: 65\n",
            "Science: 78\n",
            "social: 96\n",
            "=== ==\n",
            "========================\n",
            "     Results Status    \n",
            "======================\n"
          ]
        }
      ]
    },
    {
      "cell_type": "code",
      "source": [
        "if(count>0):\n",
        "  print(\"Fail\")\n",
        "  print(\"Failed Subjects:\",)\n",
        "\n",
        "for i in range(len (failed_sub)):\n",
        "  if(failed_sub[i]==1):\n",
        "    print(\"Telugu\")\n",
        "\n",
        "  if(failed_sub[i]==2):\n",
        "    print(\"English\")\n",
        "\n",
        "  if(failed_sub[i]==3):\n",
        "     print(\"Hindi\")\n",
        "\n",
        "  if(failed_sub[i]==4):\n",
        "    print(\"Maths\")\n",
        "\n",
        "  if(failed_sub[i]==5):\n",
        "   print(\"Science\")\n",
        "\n",
        "  if(failed_sub[i]==6):\n",
        "   print(\"Social\")\n",
        "\n",
        "else:\n",
        "  print(\"Pass\")\n",
        "  print(\"Percentage of marks:\", np.round (marks_percentage))\n",
        "  print(\"===================\")"
      ],
      "metadata": {
        "colab": {
          "base_uri": "https://localhost:8080/"
        },
        "id": "QkfIFW3n_h_G",
        "outputId": "5797355b-89cd-4a80-8f98-5388ea83c5d6"
      },
      "execution_count": 21,
      "outputs": [
        {
          "output_type": "stream",
          "name": "stdout",
          "text": [
            "Pass\n",
            "Percentage of marks: 69.0\n",
            "===================\n"
          ]
        }
      ]
    }
  ]
}