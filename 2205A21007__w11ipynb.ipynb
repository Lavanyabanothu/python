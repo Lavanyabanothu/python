{
  "nbformat": 4,
  "nbformat_minor": 0,
  "metadata": {
    "colab": {
      "provenance": [],
      "authorship_tag": "ABX9TyPEAJrQRdch838pNfOII99j",
      "include_colab_link": true
    },
    "kernelspec": {
      "name": "python3",
      "display_name": "Python 3"
    },
    "language_info": {
      "name": "python"
    }
  },
  "cells": [
    {
      "cell_type": "markdown",
      "metadata": {
        "id": "view-in-github",
        "colab_type": "text"
      },
      "source": [
        "<a href=\"https://colab.research.google.com/github/Lavanyabanothu/python/blob/main/2205A21007__w11ipynb.ipynb\" target=\"_parent\"><img src=\"https://colab.research.google.com/assets/colab-badge.svg\" alt=\"Open In Colab\"/></a>"
      ]
    },
    {
      "cell_type": "code",
      "source": [
        "import pandas as pd\n",
        "\n",
        "students_data={\n",
        "\n",
        "\"Roll No.\": [101, 102, 103, 104, 105],\n",
        "\n",
        "\"Telugu\": [35,98,43,65,78],\n",
        "\n",
        "\"English\": [87,45,98,65,34],\n",
        "\n",
        "\"Hindi\": [45,26,78,45,67],\n",
        "\n",
        "\"Maths\": [45,56,67,78,89],\n",
        "\n",
        "\"Science\" : [23,34,45,56,76],\n",
        "\n",
        "\"Social\": [32,43,54,65,67]}\n",
        "\n",
        "data=pd.DataFrame (students_data)\n",
        "\n",
        "Hall_Ticket_No=int(input(\"enter hall ticket no.\"))\n",
        "\n",
        "ind=data[data[\"Roll No.\"]==Hall_Ticket_No].index\n",
        "\n",
        "score_card=data.loc[[ind[0]]]\n",
        "\n",
        "score_card.pop(\"Roll No.\")\n",
        "\n",
        "per=score_card.loc [ind [0]].sum()*100/600\n",
        "\n",
        "fail=score_card[score_card < 35].count()\n",
        "\n",
        "no_of_sub_fail=fail.sum()\n",
        "\n",
        "failed_sub=fail[fail==1].index\n",
        "\n",
        "if (no_of_sub_fail>0):\n",
        "\n",
        "  print(\"Status: Fail\")\n",
        "\n",
        "  print(\"Failed Subjects:\", failed_sub)\n",
        "\n",
        "else:\n",
        "\n",
        "  print(\"Status: Pass\")\n",
        "\n",
        "  print(\"Pass Percentage:\", per)\n",
        "\n",
        "  score_card"
      ],
      "metadata": {
        "colab": {
          "base_uri": "https://localhost:8080/"
        },
        "id": "r1144v7axlYH",
        "outputId": "1d4b9076-8250-41e4-ef80-49d901127866"
      },
      "execution_count": 5,
      "outputs": [
        {
          "output_type": "stream",
          "name": "stdout",
          "text": [
            "enter hall ticket no.102\n",
            "Status: Fail\n",
            "Failed Subjects: Index(['Hindi', 'Science'], dtype='object')\n"
          ]
        }
      ]
    }
  ]
}