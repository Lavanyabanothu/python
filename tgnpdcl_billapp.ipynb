{
  "nbformat": 4,
  "nbformat_minor": 0,
  "metadata": {
    "colab": {
      "provenance": [],
      "authorship_tag": "ABX9TyPV1nsr45+QIjVHaoK7ZKxO",
      "include_colab_link": true
    },
    "kernelspec": {
      "name": "python3",
      "display_name": "Python 3"
    },
    "language_info": {
      "name": "python"
    }
  },
  "cells": [
    {
      "cell_type": "markdown",
      "metadata": {
        "id": "view-in-github",
        "colab_type": "text"
      },
      "source": [
        "<a href=\"https://colab.research.google.com/github/Lavanyabanothu/python/blob/main/tgnpdcl_billapp.ipynb\" target=\"_parent\"><img src=\"https://colab.research.google.com/assets/colab-badge.svg\" alt=\"Open In Colab\"/></a>"
      ]
    },
    {
      "cell_type": "code",
      "source": [
        "import datetime\n",
        "import tgnpdcl_bill\n",
        "now = datetime.datetime.now()\n",
        "print(\"Current date and time:\", now)\n",
        "formatted_now = now.strftime(\"%Y-%m-%d %H:%M:%S\")\n",
        "\n",
        "pu=int(input(\"enter the pu units:\"))\n",
        "cu=int(input(\"enter the cu units:\"))\n",
        "u=cu-pu\n",
        "customer=int(input(\"enter the customer type:0;res 1;com 2;adv\"))\n",
        "if(customer==0):\n",
        "  [ec,fc,cc,ed,bill_amount]=tgnpdcl_bill.res(pu,cu)\n",
        "if(customer==1):\n",
        "  [ec,fc,cc,ed,bill_amount]=tgnpdcl_bill.com(pu,cu)\n",
        "if(customer==2):\n",
        "  [ec,fc,cc,ed,bill_amount]=tgnpdcl_bill.adv(pu,cu)\n",
        "print(\"-------------------------------------\")\n",
        "print(\"TGNPDCL\")\n",
        "print(\"Formatted date and time:\", formatted_now)\n",
        "print(\"-------------------------------------\")\n",
        "print(\"present units\")\n",
        "print(\"previous units\",pu)\n",
        "print(\"units consumed\",u)\n",
        "print(\"energy charges=\",ec)\n",
        "print(\"fixed charge=\",fc)\n",
        "print(\"customer charges=\",cc)\n",
        "print(\"electricity duty charges=\",ed)\n",
        "print(\"bill_amount=\",bill_amount)\n",
        "print(\"-------------------------------------\")\n",
        "\n",
        ""
      ],
      "metadata": {
        "colab": {
          "base_uri": "https://localhost:8080/"
        },
        "id": "4CNVBtzbt6Ou",
        "outputId": "58ceb6b6-0356-43c2-8664-d6ad3a18b1b0"
      },
      "execution_count": 7,
      "outputs": [
        {
          "output_type": "stream",
          "name": "stdout",
          "text": [
            "Current date and time: 2024-09-18 06:01:03.730930\n",
            "enter the pu units:7144\n",
            "enter the cu units:7144\n",
            "enter the customer type:0;res 1;com 2;adv2\n",
            "-------------------------------------\n",
            "TGNPDCL\n",
            "Formatted date and time: 2024-09-18 06:01:03\n",
            "-------------------------------------\n",
            "present units\n",
            "previous units 7144\n",
            "units consumed 0\n",
            "energy charges= 300\n",
            "fixed charge= 70\n",
            "customer charges= 160\n",
            "electricity duty charges= 0.0\n",
            "bill_amount= 530.0\n",
            "-------------------------------------\n"
          ]
        }
      ]
    }
  ]
}